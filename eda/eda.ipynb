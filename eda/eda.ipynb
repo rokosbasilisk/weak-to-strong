{
 "cells": [
  {
   "cell_type": "code",
   "execution_count": 25,
   "id": "42ef7cf2",
   "metadata": {},
   "outputs": [],
   "source": [
    "import pandas as pd"
   ]
  },
  {
   "cell_type": "code",
   "execution_count": 26,
   "id": "d75c3ef2",
   "metadata": {},
   "outputs": [],
   "source": [
    "df_mid = pd.read_csv(\"pythia_93k.csv\")\n",
    "df_full = pd.read_csv(\"pythia_full.csv\")"
   ]
  },
  {
   "cell_type": "code",
   "execution_count": 27,
   "id": "d83a701a",
   "metadata": {},
   "outputs": [
    {
     "data": {
      "text/plain": [
       "0    0.214 + 0.006\n",
       "1    0.598 + 0.011\n",
       "2    0.508 + 0.014\n",
       "3    0.365 + 0.047\n",
       "4    0.359 + 0.010\n",
       "5    0.172 + 0.011\n",
       "6    0.642 + 0.015\n",
       "7    0.220 + 0.016\n",
       "Name: 70M, dtype: object"
      ]
     },
     "execution_count": 27,
     "metadata": {},
     "output_type": "execute_result"
    }
   ],
   "source": [
    "df_mid[\"70M\"]"
   ]
  },
  {
   "cell_type": "code",
   "execution_count": 28,
   "id": "44b6a952",
   "metadata": {},
   "outputs": [],
   "source": [
    "def process_dataframe(df):\n",
    "    for col in df.columns:\n",
    "        if col != 'Task':\n",
    "            df[col] = df[col].str.split().str[0].astype(float)\n",
    "    return df"
   ]
  },
  {
   "cell_type": "code",
   "execution_count": 29,
   "id": "0cbfedbf",
   "metadata": {},
   "outputs": [],
   "source": [
    "df_mid = process_dataframe(df_mid)\n",
    "df_full = process_dataframe(df_full)"
   ]
  },
  {
   "cell_type": "code",
   "execution_count": 30,
   "id": "6139c1ac",
   "metadata": {},
   "outputs": [],
   "source": [
    "df_full.set_index('Task', inplace=True)\n",
    "df_mid.set_index('Task', inplace=True)"
   ]
  },
  {
   "cell_type": "code",
   "execution_count": 34,
   "id": "f5e81fb4",
   "metadata": {},
   "outputs": [],
   "source": [
    "df_diff = df_full.subtract(df_mid)"
   ]
  },
  {
   "cell_type": "code",
   "execution_count": 35,
   "id": "3072b2ba",
   "metadata": {},
   "outputs": [
    {
     "data": {
      "text/html": [
       "<div>\n",
       "<style scoped>\n",
       "    .dataframe tbody tr th:only-of-type {\n",
       "        vertical-align: middle;\n",
       "    }\n",
       "\n",
       "    .dataframe tbody tr th {\n",
       "        vertical-align: top;\n",
       "    }\n",
       "\n",
       "    .dataframe thead th {\n",
       "        text-align: right;\n",
       "    }\n",
       "</style>\n",
       "<table border=\"1\" class=\"dataframe\">\n",
       "  <thead>\n",
       "    <tr style=\"text-align: right;\">\n",
       "      <th></th>\n",
       "      <th>70M</th>\n",
       "      <th>160M</th>\n",
       "      <th>410M</th>\n",
       "      <th>1B</th>\n",
       "      <th>1.4B</th>\n",
       "      <th>2.8B</th>\n",
       "      <th>6.9B</th>\n",
       "      <th>12B</th>\n",
       "    </tr>\n",
       "    <tr>\n",
       "      <th>Task</th>\n",
       "      <th></th>\n",
       "      <th></th>\n",
       "      <th></th>\n",
       "      <th></th>\n",
       "      <th></th>\n",
       "      <th></th>\n",
       "      <th></th>\n",
       "      <th></th>\n",
       "    </tr>\n",
       "  </thead>\n",
       "  <tbody>\n",
       "    <tr>\n",
       "      <th>Lambada (OpenAI)</th>\n",
       "      <td>-0.029</td>\n",
       "      <td>-0.040</td>\n",
       "      <td>0.016</td>\n",
       "      <td>0.013</td>\n",
       "      <td>0.024</td>\n",
       "      <td>0.014</td>\n",
       "      <td>0.016</td>\n",
       "      <td>0.021</td>\n",
       "    </tr>\n",
       "    <tr>\n",
       "      <th>PIQA</th>\n",
       "      <td>-0.003</td>\n",
       "      <td>0.002</td>\n",
       "      <td>0.001</td>\n",
       "      <td>0.006</td>\n",
       "      <td>0.006</td>\n",
       "      <td>0.008</td>\n",
       "      <td>0.011</td>\n",
       "      <td>0.005</td>\n",
       "    </tr>\n",
       "    <tr>\n",
       "      <th>WinoGrande</th>\n",
       "      <td>0.020</td>\n",
       "      <td>0.019</td>\n",
       "      <td>0.012</td>\n",
       "      <td>0.018</td>\n",
       "      <td>0.013</td>\n",
       "      <td>0.002</td>\n",
       "      <td>0.016</td>\n",
       "      <td>0.009</td>\n",
       "    </tr>\n",
       "    <tr>\n",
       "      <th>WSC</th>\n",
       "      <td>0.000</td>\n",
       "      <td>0.000</td>\n",
       "      <td>-0.058</td>\n",
       "      <td>0.000</td>\n",
       "      <td>-0.029</td>\n",
       "      <td>0.020</td>\n",
       "      <td>0.000</td>\n",
       "      <td>-0.087</td>\n",
       "    </tr>\n",
       "    <tr>\n",
       "      <th>ARC - Easy</th>\n",
       "      <td>0.015</td>\n",
       "      <td>-0.028</td>\n",
       "      <td>0.009</td>\n",
       "      <td>0.018</td>\n",
       "      <td>0.012</td>\n",
       "      <td>0.022</td>\n",
       "      <td>0.016</td>\n",
       "      <td>0.016</td>\n",
       "    </tr>\n",
       "    <tr>\n",
       "      <th>ARC - Challenge</th>\n",
       "      <td>0.009</td>\n",
       "      <td>-0.004</td>\n",
       "      <td>-0.005</td>\n",
       "      <td>0.015</td>\n",
       "      <td>0.007</td>\n",
       "      <td>0.014</td>\n",
       "      <td>-0.005</td>\n",
       "      <td>0.006</td>\n",
       "    </tr>\n",
       "    <tr>\n",
       "      <th>SciQ</th>\n",
       "      <td>-0.041</td>\n",
       "      <td>-0.023</td>\n",
       "      <td>0.003</td>\n",
       "      <td>0.003</td>\n",
       "      <td>-0.008</td>\n",
       "      <td>0.007</td>\n",
       "      <td>-0.004</td>\n",
       "      <td>-0.007</td>\n",
       "    </tr>\n",
       "    <tr>\n",
       "      <th>LogiQA</th>\n",
       "      <td>-0.010</td>\n",
       "      <td>-0.024</td>\n",
       "      <td>0.014</td>\n",
       "      <td>-0.001</td>\n",
       "      <td>-0.014</td>\n",
       "      <td>-0.008</td>\n",
       "      <td>0.013</td>\n",
       "      <td>-0.006</td>\n",
       "    </tr>\n",
       "  </tbody>\n",
       "</table>\n",
       "</div>"
      ],
      "text/plain": [
       "                    70M   160M   410M     1B   1.4B   2.8B   6.9B    12B\n",
       "Task                                                                    \n",
       "Lambada (OpenAI) -0.029 -0.040  0.016  0.013  0.024  0.014  0.016  0.021\n",
       "PIQA             -0.003  0.002  0.001  0.006  0.006  0.008  0.011  0.005\n",
       "WinoGrande        0.020  0.019  0.012  0.018  0.013  0.002  0.016  0.009\n",
       "WSC               0.000  0.000 -0.058  0.000 -0.029  0.020  0.000 -0.087\n",
       "ARC - Easy        0.015 -0.028  0.009  0.018  0.012  0.022  0.016  0.016\n",
       "ARC - Challenge   0.009 -0.004 -0.005  0.015  0.007  0.014 -0.005  0.006\n",
       "SciQ             -0.041 -0.023  0.003  0.003 -0.008  0.007 -0.004 -0.007\n",
       "LogiQA           -0.010 -0.024  0.014 -0.001 -0.014 -0.008  0.013 -0.006"
      ]
     },
     "execution_count": 35,
     "metadata": {},
     "output_type": "execute_result"
    }
   ],
   "source": [
    "df_diff"
   ]
  },
  {
   "cell_type": "code",
   "execution_count": 36,
   "id": "6fc57ea7",
   "metadata": {},
   "outputs": [],
   "source": [
    "import numpy as np\n",
    "\n",
    "slopes = {}\n",
    "for task in df_diff.index:\n",
    "    x = np.arange(len(df_diff.columns))\n",
    "    y = df_diff.loc[task].values\n",
    "    slope, _ = np.polyfit(x, y, deg=1)\n",
    "    slopes[task] = slope\n",
    "\n",
    "# Create a DataFrame with slopes\n",
    "slope_df = pd.DataFrame(list(slopes.items()), columns=['Task', 'Slope'])"
   ]
  },
  {
   "cell_type": "code",
   "execution_count": 40,
   "id": "8d8ec9fc",
   "metadata": {},
   "outputs": [
    {
     "data": {
      "text/html": [
       "<div>\n",
       "<style scoped>\n",
       "    .dataframe tbody tr th:only-of-type {\n",
       "        vertical-align: middle;\n",
       "    }\n",
       "\n",
       "    .dataframe tbody tr th {\n",
       "        vertical-align: top;\n",
       "    }\n",
       "\n",
       "    .dataframe thead th {\n",
       "        text-align: right;\n",
       "    }\n",
       "</style>\n",
       "<table border=\"1\" class=\"dataframe\">\n",
       "  <thead>\n",
       "    <tr style=\"text-align: right;\">\n",
       "      <th></th>\n",
       "      <th>Task</th>\n",
       "      <th>Slope</th>\n",
       "    </tr>\n",
       "  </thead>\n",
       "  <tbody>\n",
       "    <tr>\n",
       "      <th>0</th>\n",
       "      <td>Lambada (OpenAI)</td>\n",
       "      <td>0.007560</td>\n",
       "    </tr>\n",
       "    <tr>\n",
       "      <th>6</th>\n",
       "      <td>SciQ</td>\n",
       "      <td>0.003976</td>\n",
       "    </tr>\n",
       "    <tr>\n",
       "      <th>4</th>\n",
       "      <td>ARC - Easy</td>\n",
       "      <td>0.003095</td>\n",
       "    </tr>\n",
       "    <tr>\n",
       "      <th>7</th>\n",
       "      <td>LogiQA</td>\n",
       "      <td>0.001595</td>\n",
       "    </tr>\n",
       "    <tr>\n",
       "      <th>1</th>\n",
       "      <td>PIQA</td>\n",
       "      <td>0.001452</td>\n",
       "    </tr>\n",
       "    <tr>\n",
       "      <th>5</th>\n",
       "      <td>ARC - Challenge</td>\n",
       "      <td>0.000274</td>\n",
       "    </tr>\n",
       "    <tr>\n",
       "      <th>2</th>\n",
       "      <td>WinoGrande</td>\n",
       "      <td>-0.001512</td>\n",
       "    </tr>\n",
       "    <tr>\n",
       "      <th>3</th>\n",
       "      <td>WSC</td>\n",
       "      <td>-0.004810</td>\n",
       "    </tr>\n",
       "  </tbody>\n",
       "</table>\n",
       "</div>"
      ],
      "text/plain": [
       "               Task     Slope\n",
       "0  Lambada (OpenAI)  0.007560\n",
       "6              SciQ  0.003976\n",
       "4        ARC - Easy  0.003095\n",
       "7            LogiQA  0.001595\n",
       "1              PIQA  0.001452\n",
       "5   ARC - Challenge  0.000274\n",
       "2        WinoGrande -0.001512\n",
       "3               WSC -0.004810"
      ]
     },
     "execution_count": 40,
     "metadata": {},
     "output_type": "execute_result"
    }
   ],
   "source": [
    "slope_df.sort_values(by='Slope',ascending=False)"
   ]
  },
  {
   "cell_type": "code",
   "execution_count": null,
   "id": "57c0c3d2",
   "metadata": {},
   "outputs": [],
   "source": []
  }
 ],
 "metadata": {
  "kernelspec": {
   "display_name": "Python 3 (ipykernel)",
   "language": "python",
   "name": "python3"
  },
  "language_info": {
   "codemirror_mode": {
    "name": "ipython",
    "version": 3
   },
   "file_extension": ".py",
   "mimetype": "text/x-python",
   "name": "python",
   "nbconvert_exporter": "python",
   "pygments_lexer": "ipython3",
   "version": "3.11.3"
  }
 },
 "nbformat": 4,
 "nbformat_minor": 5
}
